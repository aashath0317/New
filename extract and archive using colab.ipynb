{
  "nbformat": 4,
  "nbformat_minor": 0,
  "metadata": {
    "colab": {
      "name": "Untitled7.ipynb",
      "provenance": [],
      "mount_file_id": "19DOcyu0YN9sIh2MQGfP0y_q-5t3YRR9h",
      "authorship_tag": "ABX9TyOdxf7m54zDROHw5I6EjYC6",
      "include_colab_link": true
    },
    "kernelspec": {
      "name": "python3",
      "display_name": "Python 3"
    },
    "language_info": {
      "name": "python"
    }
  },
  "cells": [
    {
      "cell_type": "markdown",
      "metadata": {
        "id": "view-in-github",
        "colab_type": "text"
      },
      "source": [
        "<a href=\"https://colab.research.google.com/github/aashath0317/New/blob/master/extract%20and%20archive%20using%20colab.ipynb\" target=\"_parent\"><img src=\"https://colab.research.google.com/assets/colab-badge.svg\" alt=\"Open In Colab\"/></a>"
      ]
    },
    {
      "cell_type": "markdown",
      "metadata": {
        "id": "Wn-HNIcBRGP2"
      },
      "source": [
        "\n",
        "\n",
        "\n",
        "![channels4_profile.jpg](data:image/jpeg;base64,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)\n",
        "\n",
        "\n",
        "---\n",
        "\n",
        "# **C2P TECH**\n",
        "[**Subscribe Our Channel**](https://www.youtube.com/channel/UCJVrPRNqzGPQfG57H-vgz0w)\n",
        "\n",
        "**Tutorial**(soon)\n",
        "\n",
        "\n",
        "\n",
        "\n"
      ]
    },
    {
      "cell_type": "markdown",
      "metadata": {
        "id": "wkuQRBAZTzQi"
      },
      "source": [
        "\n",
        "\n",
        "> \n",
        "\n",
        "\n",
        "> \n",
        "\n",
        "\n",
        "\n"
      ]
    },
    {
      "cell_type": "code",
      "metadata": {
        "id": "ND7Vn9Ih1mbE",
        "cellView": "form"
      },
      "source": [
        "#@title 1ST RUN ME\n",
        "import os\n",
        "import subprocess\n",
        "!apt-get install rar"
      ],
      "execution_count": null,
      "outputs": []
    },
    {
      "cell_type": "markdown",
      "metadata": {
        "id": "X8Q_OSjTTDmO"
      },
      "source": [
        "**m_path** = you file or folder path\n",
        "\n",
        "> \n",
        "\n",
        "\n",
        "**split_size** = add only number if you add 1 is 1 GB file split.\n",
        "\n",
        "\n",
        "> \n",
        "\n",
        "**password**  = archive password\n",
        "\n"
      ]
    },
    {
      "cell_type": "code",
      "metadata": {
        "id": "JpeTXYn-RkXP",
        "cellView": "form"
      },
      "source": [
        "#@title Archive with full feature!!!\n",
        "archive_type = \"7z\" # @param [\"zip\",\"7z\",\"rar\"]\n",
        "m_path = \"/content/drive/Shareddrives/Games/test\" # @param {type:\"string\"}\n",
        "split_size =\"\" # @param {type:\"string\"}\n",
        "password = \"\" # @param {type:\"string\"}\n",
        "## 1.7z no pass no split size\n",
        "## 2.7z no pass with split size\n",
        "## 3.7z pass no split\n",
        "## 4.7z pass with split\n",
        "## 5.zip no pass no split size\n",
        "## 6.zip no pass with split size\n",
        "## 7.zip no pass no split\n",
        "## 8.zip pass with split\n",
        "## 9.rar no pass no split size\n",
        "## 10.rar no pass with split size\n",
        "## 11.rar pass no split\n",
        "## 12.rar pass with split\n",
        "\n",
        "ip = 0\n",
        "while ip == 0:                            ##checking input \n",
        "  if archive_type == \"7z\":\n",
        "    if password == \"\" and split_size == \"\":\n",
        "      ip = 1\n",
        "    elif password == \"\" and not split_size == \"\":\n",
        "      ip = 2\n",
        "    elif not password == \"\" and split_size == \"\":\n",
        "      ip = 3\n",
        "    elif not password == \"\" and not split_size == \"\":\n",
        "      ip = 4\n",
        "    break\n",
        "\n",
        "  elif archive_type == \"zip\":\n",
        "    if password == \"\" and split_size == \"\":\n",
        "      ip = 5\n",
        "    elif password == \"\" and not split_size == \"\":\n",
        "      ip = 6\n",
        "    elif not password == \"\" and split_size == \"\":\n",
        "      ip = 7\n",
        "    elif not password == \"\" and not split_size == \"\":\n",
        "      ip = 8  \n",
        "    break\n",
        "\n",
        "  elif archive_type == \"rar\":\n",
        "    if password == \"\" and split_size == \"\":\n",
        "      ip = 9\n",
        "    elif password == \"\" and not split_size == \"\":\n",
        "      ip = 10\n",
        "    elif not password == \"\" and split_size == \"\":\n",
        "      ip = 11\n",
        "    elif not password == \"\" and not split_size == \"\":\n",
        "      ip = 12 \n",
        "    break    \n",
        "  break\n",
        "dir, file = os.path.split(m_path)\n",
        "\n",
        "######################################################\n",
        "##   ########   #########    ##########    ###########        \n",
        "## ########     #########    ##      ###   ###########\n",
        "# ###               ##       ##########    ###########\n",
        "# ###             ##         ##            ###########\n",
        "##  ########    #########    ##            ###########\n",
        "##   #########  #########    ##            ###########\n",
        "\n",
        "if ip == 1: ## 1.7z no pass no split size\n",
        "  path = m_path+\".\"+archive_type\n",
        "  print(\"creating.....\"+\" \"+file+\".\"+archive_type)   \n",
        "  subprocess.run([\"7z\",\"a\", \"-mx=0\", path, m_path])\n",
        "\n",
        "elif ip == 2: ## 2.7z no pass with split size\n",
        "  path = m_path+\".\"+archive_type\n",
        "  split_size = \"-v\"+split_size+\"g\"\n",
        "  print(\"creating.....\"+\" \"+file+\".\"+archive_type)   \n",
        "  subprocess.run([\"7z\", \"a\", \"-mx=0\", split_size, path, m_path])\n",
        "\n",
        "elif ip == 3: ## 3.7z pass no split\n",
        "  path = m_path+\".\"+archive_type\n",
        "  print(\"creating.....\"+\" \"+file+\".\"+archive_type) \n",
        "  password = \"-p\"+password\n",
        "  subprocess.run([\"7z\", \"a\", \"-mx=0\",password , path, m_path]) \n",
        "\n",
        "elif ip == 4: ## 4.7z pass with split\n",
        "  path = m_path+\".\"+archive_type\n",
        "  split_size = \"-v\"+split_size+\"g\"\n",
        "  print(\"creating.....\"+\" \"+file+\".\"+archive_type)\n",
        "  password = \"-p\"+password   \n",
        "  subprocess.run([\"7z\", \"a\",\"-mx=0\", split_size, password, path, m_path])\n",
        "\n",
        "elif ip == 5: ## 5.zip no pass no split size\n",
        "  path = m_path+\".\"+archive_type\n",
        "  print(\"creating.....\"+\" \"+file+\".\"+archive_type)   \n",
        "  subprocess.run([\"7z\",\"a\", \"-mx=0\", path, m_path])\n",
        "\n",
        "elif ip == 6: ## 6.zip no pass with split size\n",
        "  path = m_path+\".\"+archive_type\n",
        "  split_size = \"-v\"+split_size+\"g\"\n",
        "  print(\"creating.....\"+\" \"+file+\".\"+archive_type)   \n",
        "  subprocess.run([\"7z\", \"a\", \"-mx=0\",split_size , path, m_path])\n",
        "\n",
        "elif ip == 7: ## 7.zip pass no split\n",
        "  path = m_path+\".\"+archive_type\n",
        "  print(\"creating.....\"+\" \"+file+\".\"+archive_type)   \n",
        "  password = \"-p\"+password\n",
        "  subprocess.run([\"7z\", \"a\", \"-mx=0\",password , path, m_path])\n",
        "\n",
        "elif ip == 8: ## 8.zip pass with split\n",
        "  path = m_path+\".\"+archive_type\n",
        "  split_size = \"-v\"+split_size+\"g\"\n",
        "  print(\"creating.....\"+\" \"+file+\".\"+archive_type)\n",
        "  password = \"-p\"+password   \n",
        "  subprocess.run([\"7z\", \"a\", \"-mx=0\",split_size ,password , path, m_path])\n",
        "elif ip == 9: ## 9.rar no pass no split size\n",
        "  path = m_path+\".\"+archive_type\n",
        "  print(\"creating.....\"+\" \"+file+\".\"+archive_type)   \n",
        "  subprocess.run([\"rar\", \"a\", \"-m0\", path, m_path])\n",
        "\n",
        "elif ip == 10: ## 10.rar no pass with split size\n",
        "  path = m_path+\".\"+archive_type\n",
        "  split_size = \"-v\"+split_size+\"G\"\n",
        "  print(\"creating.....\"+\" \"+file+\".\"+archive_type)   \n",
        "  subprocess.run([\"rar\", \"a\", \"-m0\",split_size , path, m_path])\n",
        "\n",
        "elif ip == 11: ## 11.rar pass no split\n",
        "  path = m_path+\".\"+archive_type\n",
        "  print(\"creating.....\"+\" \"+file+\".\"+archive_type)\n",
        "  password = \"-p\"+password   \n",
        "  subprocess.run([\"rar\", \"a\", \"-m0\",password , path, m_path])\n",
        "\n",
        "elif ip == 12:\n",
        "  path = m_path+\".\"+archive_type\n",
        "  split_size = \"-v\"+split_size+\"G\"\n",
        "  print(\"creating.....\"+\" \"+file+\".\"+archive_type)\n",
        "  password = \"-p\"+password \n",
        "  subprocess.run([\"rar\", \"a\", \"-m0\",split_size ,password, path, m_path])\n",
        "print(\"Complete.\")\n",
        "\n",
        "######################################################"
      ],
      "execution_count": null,
      "outputs": []
    },
    {
      "cell_type": "code",
      "metadata": {
        "id": "5Li556IeT_Bm"
      },
      "source": [
        ""
      ],
      "execution_count": null,
      "outputs": []
    }
  ]
}